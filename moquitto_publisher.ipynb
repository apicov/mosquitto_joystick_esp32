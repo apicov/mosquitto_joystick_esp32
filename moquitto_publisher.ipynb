{
 "cells": [
  {
   "cell_type": "code",
   "execution_count": null,
   "id": "0b190f2c",
   "metadata": {
    "ExecuteTime": {
     "start_time": "2024-03-04T19:14:00.323Z"
    }
   },
   "outputs": [],
   "source": [
    "import time\n",
    "import paho.mqtt.client as mqtt\n",
    "\n",
    "def on_publish(client, userdata, mid, reason_code, properties):\n",
    "    # reason_code and properties will only be present in MQTTv5. It's always unset in MQTTv3\n",
    "    try:\n",
    "        userdata.remove(mid)\n",
    "    except KeyError:\n",
    "        print(\"on_publish() is called with a mid not present in unacked_publish\")\n",
    "        print(\"This is due to an unavoidable race-condition:\")\n",
    "        print(\"* publish() return the mid of the message sent.\")\n",
    "        print(\"* mid from publish() is added to unacked_publish by the main thread\")\n",
    "        print(\"* on_publish() is called by the loop_start thread\")\n",
    "        print(\"While unlikely (because on_publish() will be called after a network round-trip),\")\n",
    "        print(\" this is a race-condition that COULD happen\")\n",
    "        print(\"\")\n",
    "        print(\"The best solution to avoid race-condition is using the msg_info from publish()\")\n",
    "        print(\"We could also try using a list of acknowledged mid rather than removing from pending list,\")\n",
    "        print(\"but remember that mid could be re-used !\")\n",
    "\n",
    "unacked_publish = set()\n",
    "mqttc = mqtt.Client(mqtt.CallbackAPIVersion.VERSION2)\n",
    "mqttc.on_publish = on_publish\n",
    "\n",
    "mqttc.user_data_set(unacked_publish)\n",
    "mqttc.connect(\"localhost\")\n",
    "mqttc.loop_start()\n",
    "\n",
    "# Our application produce some messages\n",
    "msg_info = mqttc.publish(\"paho/test/topic\", \"my message\", qos=0)\n",
    "unacked_publish.add(msg_info.mid)\n",
    "\n",
    "msg_info2 = mqttc.publish(\"paho/test/topic\", \"my message2\", qos=0)\n",
    "unacked_publish.add(msg_info2.mid)\n",
    "\n",
    "# Wait for all message to be published\n",
    "while len(unacked_publish):\n",
    "    time.sleep(0.1)\n",
    "\n",
    "# Due to race-condition described above, the following way to wait for all publish is safer\n",
    "msg_info.wait_for_publish()\n",
    "msg_info2.wait_for_publish()"
   ]
  },
  {
   "cell_type": "code",
   "execution_count": 13,
   "id": "4df36ad5",
   "metadata": {
    "ExecuteTime": {
     "end_time": "2024-03-04T12:32:10.653956Z",
     "start_time": "2024-03-04T12:32:10.650721Z"
    }
   },
   "outputs": [
    {
     "data": {
      "text/plain": [
       "<MQTTErrorCode.MQTT_ERR_INVAL: 3>"
      ]
     },
     "execution_count": 13,
     "metadata": {},
     "output_type": "execute_result"
    }
   ],
   "source": [
    "mqttc.disconnect()\n",
    "mqttc.loop_stop()"
   ]
  },
  {
   "cell_type": "code",
   "execution_count": null,
   "id": "b054065b",
   "metadata": {},
   "outputs": [],
   "source": []
  }
 ],
 "metadata": {
  "kernelspec": {
   "display_name": "Python [conda env:fai] *",
   "language": "python",
   "name": "conda-env-fai-py"
  },
  "language_info": {
   "codemirror_mode": {
    "name": "ipython",
    "version": 3
   },
   "file_extension": ".py",
   "mimetype": "text/x-python",
   "name": "python",
   "nbconvert_exporter": "python",
   "pygments_lexer": "ipython3",
   "version": "3.10.4"
  },
  "varInspector": {
   "cols": {
    "lenName": 16,
    "lenType": 16,
    "lenVar": 40
   },
   "kernels_config": {
    "python": {
     "delete_cmd_postfix": "",
     "delete_cmd_prefix": "del ",
     "library": "var_list.py",
     "varRefreshCmd": "print(var_dic_list())"
    },
    "r": {
     "delete_cmd_postfix": ") ",
     "delete_cmd_prefix": "rm(",
     "library": "var_list.r",
     "varRefreshCmd": "cat(var_dic_list()) "
    }
   },
   "types_to_exclude": [
    "module",
    "function",
    "builtin_function_or_method",
    "instance",
    "_Feature"
   ],
   "window_display": false
  }
 },
 "nbformat": 4,
 "nbformat_minor": 5
}
